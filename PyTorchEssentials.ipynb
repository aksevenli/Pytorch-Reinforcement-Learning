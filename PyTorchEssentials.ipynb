{
  "nbformat": 4,
  "nbformat_minor": 0,
  "metadata": {
    "colab": {
      "name": "PyTorchEssentials.ipynb",
      "provenance": [],
      "collapsed_sections": [],
      "mount_file_id": "1FxaRZ_KiqjwcAQAjCpDwXzCtyksGkqCE",
      "authorship_tag": "ABX9TyMgcf0dzPYQlE4D8PHw328A",
      "include_colab_link": true
    },
    "kernelspec": {
      "name": "python3",
      "display_name": "Python 3"
    },
    "accelerator": "GPU"
  },
  "cells": [
    {
      "cell_type": "markdown",
      "metadata": {
        "id": "view-in-github",
        "colab_type": "text"
      },
      "source": [
        "<a href=\"https://colab.research.google.com/github/aksevenli/Pytorch-Reinforcement-Learning/blob/master/PyTorchEssentials.ipynb\" target=\"_parent\"><img src=\"https://colab.research.google.com/assets/colab-badge.svg\" alt=\"Open In Colab\"/></a>"
      ]
    },
    {
      "cell_type": "code",
      "metadata": {
        "id": "8Z0seTV4XWv5",
        "colab_type": "code",
        "colab": {}
      },
      "source": [
        "import torch"
      ],
      "execution_count": 0,
      "outputs": []
    },
    {
      "cell_type": "markdown",
      "metadata": {
        "id": "ZRzi-ftDnQ-_",
        "colab_type": "text"
      },
      "source": [
        "Randomly initialized Matrix"
      ]
    },
    {
      "cell_type": "code",
      "metadata": {
        "id": "4dDl1HaEYS7O",
        "colab_type": "code",
        "colab": {
          "base_uri": "https://localhost:8080/",
          "height": 68
        },
        "outputId": "fb946524-c9a4-401e-bc32-efdb34093899"
      },
      "source": [
        "x = torch.rand(3, 4)\n",
        "print(x)"
      ],
      "execution_count": 16,
      "outputs": [
        {
          "output_type": "stream",
          "text": [
            "tensor([[0.1460, 0.5540, 0.1858, 0.6725],\n",
            "        [0.7075, 0.4117, 0.2409, 0.4165],\n",
            "        [0.5532, 0.4863, 0.0572, 0.4759]])\n"
          ],
          "name": "stdout"
        }
      ]
    },
    {
      "cell_type": "markdown",
      "metadata": {
        "id": "TNZjOwL2pNRI",
        "colab_type": "text"
      },
      "source": [
        "Specify data type"
      ]
    },
    {
      "cell_type": "code",
      "metadata": {
        "id": "Y8i6q3J6l_0-",
        "colab_type": "code",
        "colab": {
          "base_uri": "https://localhost:8080/",
          "height": 68
        },
        "outputId": "8fd11396-af27-4d7a-bbe1-8b7bcd59bf7d"
      },
      "source": [
        "x = torch.rand(3, 4, dtype=torch.double)\n",
        "print(x)"
      ],
      "execution_count": 3,
      "outputs": [
        {
          "output_type": "stream",
          "text": [
            "tensor([[0.1211, 0.4514, 0.8394, 0.4944],\n",
            "        [0.3947, 0.1829, 0.6425, 0.8830],\n",
            "        [0.2951, 0.2255, 0.1184, 0.0484]], dtype=torch.float64)\n"
          ],
          "name": "stdout"
        }
      ]
    },
    {
      "cell_type": "markdown",
      "metadata": {
        "id": "ReM2HUpypgrJ",
        "colab_type": "text"
      },
      "source": [
        "Create a matrix full of zeros and a matrix full of ones"
      ]
    },
    {
      "cell_type": "code",
      "metadata": {
        "id": "RcdvpdI9plqY",
        "colab_type": "code",
        "colab": {
          "base_uri": "https://localhost:8080/",
          "height": 119
        },
        "outputId": "86058363-58f6-4319-ab2f-702361dd4c09"
      },
      "source": [
        "x = torch.zeros(3, 4)\n",
        "print(x)\n",
        "x = torch.ones(3, 4)\n",
        "print(x)"
      ],
      "execution_count": 5,
      "outputs": [
        {
          "output_type": "stream",
          "text": [
            "tensor([[0., 0., 0., 0.],\n",
            "        [0., 0., 0., 0.],\n",
            "        [0., 0., 0., 0.]])\n",
            "tensor([[1., 1., 1., 1.],\n",
            "        [1., 1., 1., 1.],\n",
            "        [1., 1., 1., 1.]])\n"
          ],
          "name": "stdout"
        }
      ]
    },
    {
      "cell_type": "markdown",
      "metadata": {
        "id": "5YHHOPQPp-VT",
        "colab_type": "text"
      },
      "source": [
        "Get the size of a tensor"
      ]
    },
    {
      "cell_type": "code",
      "metadata": {
        "id": "kQaYCuu0ppPT",
        "colab_type": "code",
        "colab": {
          "base_uri": "https://localhost:8080/",
          "height": 34
        },
        "outputId": "d4bdf968-d339-4fdd-f626-ba07bf1c5665"
      },
      "source": [
        "print(x.size())"
      ],
      "execution_count": 6,
      "outputs": [
        {
          "output_type": "stream",
          "text": [
            "torch.Size([3, 4])\n"
          ],
          "name": "stdout"
        }
      ]
    },
    {
      "cell_type": "markdown",
      "metadata": {
        "id": "YbGG4r6SqFUE",
        "colab_type": "text"
      },
      "source": [
        "Reshape a tensor"
      ]
    },
    {
      "cell_type": "code",
      "metadata": {
        "id": "gkkGXyPQqDGk",
        "colab_type": "code",
        "colab": {
          "base_uri": "https://localhost:8080/",
          "height": 51
        },
        "outputId": "d2f28003-fd68-4b35-8655-9e731dbb0433"
      },
      "source": [
        "x_reshaped = x.view(2, 6)\n",
        "print(x_reshaped)"
      ],
      "execution_count": 7,
      "outputs": [
        {
          "output_type": "stream",
          "text": [
            "tensor([[1., 1., 1., 1., 1., 1.],\n",
            "        [1., 1., 1., 1., 1., 1.]])\n"
          ],
          "name": "stdout"
        }
      ]
    },
    {
      "cell_type": "markdown",
      "metadata": {
        "id": "VGtGlLU_qT9h",
        "colab_type": "text"
      },
      "source": [
        "Create a tensor directly from data, including a single value, a list, and anested list"
      ]
    },
    {
      "cell_type": "code",
      "metadata": {
        "id": "8QM8ea12qZkX",
        "colab_type": "code",
        "colab": {
          "base_uri": "https://localhost:8080/",
          "height": 85
        },
        "outputId": "c4ac9705-085d-41ec-ccfb-ba347f863174"
      },
      "source": [
        "x1 = torch.tensor(3)\n",
        "print(x1)\n",
        "x2 = torch.tensor([14.2, 3, 4])\n",
        "print(x2)\n",
        "x3 = torch.tensor([[3, 4, 6], [2, 1.0, 5]])\n",
        "print(x3)"
      ],
      "execution_count": 9,
      "outputs": [
        {
          "output_type": "stream",
          "text": [
            "tensor(3)\n",
            "tensor([14.2000,  3.0000,  4.0000])\n",
            "tensor([[3., 4., 6.],\n",
            "        [2., 1., 5.]])\n"
          ],
          "name": "stdout"
        }
      ]
    },
    {
      "cell_type": "markdown",
      "metadata": {
        "id": "lrjlSB1CrPoZ",
        "colab_type": "text"
      },
      "source": [
        "Access the elements in a tensor of more than one element use indexing"
      ]
    },
    {
      "cell_type": "code",
      "metadata": {
        "id": "QnnEYFwNrBRa",
        "colab_type": "code",
        "colab": {
          "base_uri": "https://localhost:8080/",
          "height": 102
        },
        "outputId": "abe324f1-d294-448b-accb-ff3099d88974"
      },
      "source": [
        "print(x2[1])\n",
        "print(x3[1, 0])\n",
        "print(x3[:, 1])\n",
        "print(x3[:, 1:])"
      ],
      "execution_count": 10,
      "outputs": [
        {
          "output_type": "stream",
          "text": [
            "tensor(3.)\n",
            "tensor(2.)\n",
            "tensor([4., 1.])\n",
            "tensor([[4., 6.],\n",
            "        [1., 5.]])\n"
          ],
          "name": "stdout"
        }
      ]
    },
    {
      "cell_type": "markdown",
      "metadata": {
        "id": "_-dbi-_PvfoN",
        "colab_type": "text"
      },
      "source": [
        "Convert a NumPy array to a tensor "
      ]
    },
    {
      "cell_type": "code",
      "metadata": {
        "id": "0-H9s46uviye",
        "colab_type": "code",
        "colab": {
          "base_uri": "https://localhost:8080/",
          "height": 34
        },
        "outputId": "22e0fdbe-cb7c-44ef-cb11-1354e5192ac1"
      },
      "source": [
        "import numpy as np\n",
        "x_np = np.ones(3)\n",
        "x_torch = torch.from_numpy(x_np)\n",
        "print(x_torch)"
      ],
      "execution_count": 11,
      "outputs": [
        {
          "output_type": "stream",
          "text": [
            "tensor([1., 1., 1.], dtype=torch.float64)\n"
          ],
          "name": "stdout"
        }
      ]
    },
    {
      "cell_type": "markdown",
      "metadata": {
        "id": "WyxTRGIXv5Kt",
        "colab_type": "text"
      },
      "source": [
        "Operations in PyTorch"
      ]
    },
    {
      "cell_type": "code",
      "metadata": {
        "id": "8munKjNNvruv",
        "colab_type": "code",
        "colab": {
          "base_uri": "https://localhost:8080/",
          "height": 85
        },
        "outputId": "a52bd896-6361-470c-a678-ba8d44e44db7"
      },
      "source": [
        "x4 = torch.tensor([[1, 0, 0], [0, 1.0, 0]])\n",
        "print(x3 + x4)\n",
        "# Use add()\n",
        "print(torch.add(x3, x4))"
      ],
      "execution_count": 14,
      "outputs": [
        {
          "output_type": "stream",
          "text": [
            "tensor([[4., 4., 6.],\n",
            "        [2., 2., 5.]])\n",
            "tensor([[4., 4., 6.],\n",
            "        [2., 2., 5.]])\n"
          ],
          "name": "stdout"
        }
      ]
    },
    {
      "cell_type": "markdown",
      "metadata": {
        "id": "2rMOSK8WwOs8",
        "colab_type": "text"
      },
      "source": [
        "In-place Operations, which mutate the tensor object"
      ]
    },
    {
      "cell_type": "code",
      "metadata": {
        "id": "srZd5RagwC8F",
        "colab_type": "code",
        "colab": {
          "base_uri": "https://localhost:8080/",
          "height": 51
        },
        "outputId": "b78bb7dc-5db3-4ff0-d272-f0d346f9b249"
      },
      "source": [
        "x3.add_(x4)"
      ],
      "execution_count": 15,
      "outputs": [
        {
          "output_type": "execute_result",
          "data": {
            "text/plain": [
              "tensor([[4., 4., 6.],\n",
              "        [2., 2., 5.]])"
            ]
          },
          "metadata": {
            "tags": []
          },
          "execution_count": 15
        }
      ]
    },
    {
      "cell_type": "code",
      "metadata": {
        "id": "2B5AtrJhwVsT",
        "colab_type": "code",
        "colab": {}
      },
      "source": [
        ""
      ],
      "execution_count": 0,
      "outputs": []
    }
  ]
}