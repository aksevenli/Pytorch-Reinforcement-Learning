{
  "nbformat": 4,
  "nbformat_minor": 0,
  "metadata": {
    "colab": {
      "name": "hillClimbingAlgorithm.ipynb",
      "provenance": [],
      "authorship_tag": "ABX9TyMHN28z4G2araGQT0tUiVPl",
      "include_colab_link": true
    },
    "kernelspec": {
      "name": "python3",
      "display_name": "Python 3"
    },
    "accelerator": "GPU"
  },
  "cells": [
    {
      "cell_type": "markdown",
      "metadata": {
        "id": "view-in-github",
        "colab_type": "text"
      },
      "source": [
        "<a href=\"https://colab.research.google.com/github/aksevenli/Pytorch-Reinforcement-Learning/blob/master/hillClimbingAlgorithm.ipynb\" target=\"_parent\"><img src=\"https://colab.research.google.com/assets/colab-badge.svg\" alt=\"Open In Colab\"/></a>"
      ]
    },
    {
      "cell_type": "markdown",
      "metadata": {
        "id": "cmFt1Pony_0b",
        "colab_type": "text"
      },
      "source": [
        "## Developing the hill-climbing algorithm\n",
        "As we can see in the random search policy, each episode is independent. In fact, all episodes in random search can be run in parallel, and the weight that achieves the best performance will eventually be selected. We've also verified this with the plot of reward versus episode, where there is no upward trend. In this recipe, we will develop a different algorithm, a hill-climbing algorithm, to transfer the knowledge acquired in one episode to the next episode.\n",
        "\n",
        "In the hill-climbing algorithm, we also start with a randomly chosen weight. But here, **for every episode, we add some noise to the weight**. **If the total reward improves, we update the weight with the new one**; otherwise, we keep the old weight. In this approach, the weight is gradually improved as we progress through the episodes, instead of jumping around in each episode."
      ]
    },
    {
      "cell_type": "code",
      "metadata": {
        "id": "J0rqa-RgvFj-",
        "colab_type": "code",
        "colab": {}
      },
      "source": [
        "import gym\n",
        "import torch"
      ],
      "execution_count": 0,
      "outputs": []
    },
    {
      "cell_type": "code",
      "metadata": {
        "id": "VDAIlZ_Zy-z_",
        "colab_type": "code",
        "colab": {}
      },
      "source": [
        "env = gym.make('CartPole-v0')\n",
        "n_state = env.observation_space.shape[0]\n",
        "n_action = env.action_space.n\n",
        "\n",
        "def run_episode(env, weight):\n",
        "    state = env.reset()\n",
        "    total_reward = 0\n",
        "    is_done = False\n",
        "\n",
        "    while not is_done:\n",
        "        state = torch.from_numpy(state).float()\n",
        "        action = torch.argmax(torch.matmul(state, weight))\n",
        "        state, reward, is_done, _ = env.step(action.item())\n",
        "        total_reward += reward\n",
        "    return total_reward"
      ],
      "execution_count": 0,
      "outputs": []
    },
    {
      "cell_type": "code",
      "metadata": {
        "id": "k-ZjcX-vzy4u",
        "colab_type": "code",
        "colab": {
          "base_uri": "https://localhost:8080/",
          "height": 231
        },
        "outputId": "b4582e3d-dec4-4552-a4a7-83aa27cce65a"
      },
      "source": [
        "n_episode = 1000\n",
        "best_total_reward = 0\n",
        "best_weight = torch.rand(n_state, n_action)\n",
        "total_rewards = []\n",
        "\n",
        "# Add some noise to the weight for each episode\n",
        "# Apply a scale to the noise so that the noise won't overwhelm the weight\n",
        "noise_scale = 0.01"
      ],
      "execution_count": 2,
      "outputs": [
        {
          "output_type": "error",
          "ename": "NameError",
          "evalue": "ignored",
          "traceback": [
            "\u001b[0;31m---------------------------------------------------------------------------\u001b[0m",
            "\u001b[0;31mNameError\u001b[0m                                 Traceback (most recent call last)",
            "\u001b[0;32m<ipython-input-2-3abc3f4eded6>\u001b[0m in \u001b[0;36m<module>\u001b[0;34m()\u001b[0m\n\u001b[1;32m      1\u001b[0m \u001b[0mn_episode\u001b[0m \u001b[0;34m=\u001b[0m \u001b[0;36m1000\u001b[0m\u001b[0;34m\u001b[0m\u001b[0;34m\u001b[0m\u001b[0m\n\u001b[1;32m      2\u001b[0m \u001b[0mbest_total_reward\u001b[0m \u001b[0;34m=\u001b[0m \u001b[0;36m0\u001b[0m\u001b[0;34m\u001b[0m\u001b[0;34m\u001b[0m\u001b[0m\n\u001b[0;32m----> 3\u001b[0;31m \u001b[0mbest_weight\u001b[0m \u001b[0;34m=\u001b[0m \u001b[0mtorch\u001b[0m\u001b[0;34m.\u001b[0m\u001b[0mrand\u001b[0m\u001b[0;34m(\u001b[0m\u001b[0mn_state\u001b[0m\u001b[0;34m,\u001b[0m \u001b[0mn_action\u001b[0m\u001b[0;34m)\u001b[0m\u001b[0;34m\u001b[0m\u001b[0;34m\u001b[0m\u001b[0m\n\u001b[0m\u001b[1;32m      4\u001b[0m \u001b[0mtotal_rewards\u001b[0m \u001b[0;34m=\u001b[0m \u001b[0;34m[\u001b[0m\u001b[0;34m]\u001b[0m\u001b[0;34m\u001b[0m\u001b[0;34m\u001b[0m\u001b[0m\n\u001b[1;32m      5\u001b[0m \u001b[0;34m\u001b[0m\u001b[0m\n",
            "\u001b[0;31mNameError\u001b[0m: name 'torch' is not defined"
          ]
        }
      ]
    },
    {
      "cell_type": "markdown",
      "metadata": {
        "id": "cjg2zdtY2L7P",
        "colab_type": "text"
      },
      "source": [
        "After we randomly pick an initial weight, for each episode, we do the following:\n",
        "\n",
        "\n",
        "*   Add random noise to the weight\n",
        "*   Let the agent take actions according to the linear mapping\n",
        "*   An episode terminates and returns the total reward\n",
        "*   If the current reward is greater than the best one obtained so far, update the best reward and the weight\n",
        "*   Otherwise, the best reward and the weight remain unchanged\n",
        "*   Also, keep a record of the total reward"
      ]
    },
    {
      "cell_type": "code",
      "metadata": {
        "id": "ZrdRQuQg3Fw6",
        "colab_type": "code",
        "colab": {}
      },
      "source": [
        "for episode in range(n_episode):\n",
        "    weight = best_weight + noise_scale * torch.rand(n_state, n_action)\n",
        "    total_reward = run_episode(env, weight)\n",
        "    if total_reward >= best_total_reward:\n",
        "        best_weight = best_weight\n",
        "    total_rewards.append(total_reward)\n",
        "    print('Episode {}: {}'.format(episode + 1, total_reward))\n",
        "print('Average total reward over {} episode: {}'.format(n_episode, sum(total_rewards) / n_episode))  "
      ],
      "execution_count": 0,
      "outputs": []
    },
    {
      "cell_type": "markdown",
      "metadata": {
        "id": "Q_vLDhse4bgc",
        "colab_type": "text"
      },
      "source": [
        "To assess the training using the hill-climbing algorithm, we repeat the training process multiple times. We observe that the average total reward fluctuates a lot. What could cause such variance? **It turns out that if the initial weight is bad, adding noise at a small scale will have little effect on improving the performance**. This will cause **poor convergence**. On the other hand, if the initial weight is good, adding noise at a big scale might move the weight away from the optimal weight and jeopardize the performance. How can we make the training of the hillclimbing model more stable and reliable? We can actually make the noise scale adaptive to the performance, just like the adaptive learning rate in gradient descent.\n",
        "To make the noise adaptive, we do the following:\n",
        "\n",
        "\n",
        "*   Specify a starting noise scale.\n",
        "*   If the performance in an episode **improves**, **decrease** the noise scale. In our case, we take half of the scale, but set **0.0001** as the lower bound.\n",
        "*   If the performance in an episode **drops**, **increase** the noise scale. In our case, we double the scale, but set **2** as the upper bound.\n",
        "\n"
      ]
    },
    {
      "cell_type": "code",
      "metadata": {
        "id": "9wT9HZlj4Rks",
        "colab_type": "code",
        "colab": {}
      },
      "source": [
        "noise_scale = 0.01\n",
        "best_total_reward = 0\n",
        "total_rewards = []\n",
        "for episode in range(n_episode):\n",
        "    weight = best_weight + noise_scale * torch.rand(n_state, n_action)\n",
        "    total_reward = run_episode(env, weight)\n",
        "    if total_reward >= best_total_reward:\n",
        "        best_total_reward = total_reward\n",
        "        best_weight = weight\n",
        "        noise_scale = max(noise_scale / 2, 1e-4)\n",
        "    else:\n",
        "        noise_scale = min(noise_scale * 2, 2)\n",
        "    print('Episode {}: {}'.format(episode + 1, total_reward))\n",
        "    total_rewards.append(total_reward)\n"
      ],
      "execution_count": 0,
      "outputs": []
    },
    {
      "cell_type": "code",
      "metadata": {
        "id": "hd76JZq8_jx1",
        "colab_type": "code",
        "colab": {
          "base_uri": "https://localhost:8080/",
          "height": 34
        },
        "outputId": "57d2e455-ad4e-4e5d-c161-c3bdbf268a6b"
      },
      "source": [
        "print('Average total reward over {} episode: {}'.format(n_episode, sum(total_rewards) / n_episode))"
      ],
      "execution_count": 11,
      "outputs": [
        {
          "output_type": "stream",
          "text": [
            "Average total reward over 1000 episode: 196.679\n"
          ],
          "name": "stdout"
        }
      ]
    },
    {
      "cell_type": "code",
      "metadata": {
        "id": "p6Qa657Z_wKv",
        "colab_type": "code",
        "colab": {
          "base_uri": "https://localhost:8080/",
          "height": 279
        },
        "outputId": "e67fefdf-60d8-439d-d345-5974cc7d9dba"
      },
      "source": [
        "import matplotlib.pyplot as plt\n",
        "plt.plot(total_rewards)\n",
        "plt.xlabel('Episode')\n",
        "plt.ylabel('Reward')\n",
        "plt.show()"
      ],
      "execution_count": 12,
      "outputs": [
        {
          "output_type": "display_data",
          "data": {
            "image/png": "[encoded data removed]",
            "text/plain": [
              "<Figure size 432x288 with 1 Axes>"
            ]
          },
          "metadata": {
            "tags": [],
            "needs_background": "light"
          }
        }
      ]
    },
    {
      "cell_type": "markdown",
      "metadata": {
        "id": "ZYRMo__1_84Q",
        "colab_type": "text"
      },
      "source": [
        "In the resulting plot, we can see a clear upward trend before it plateaus at the maximum value\n",
        "\n",
        "Now, let's see how the learned policy performs on 100 new episodes:"
      ]
    },
    {
      "cell_type": "code",
      "metadata": {
        "id": "uCDuk7ZK_3fW",
        "colab_type": "code",
        "colab": {
          "base_uri": "https://localhost:8080/",
          "height": 1000
        },
        "outputId": "90414001-219c-4422-91f9-7a2383f3d170"
      },
      "source": [
        "n_episode_eval = 100\n",
        "total_rewards_eval = []\n",
        "for episode in range(n_episode_eval):\n",
        "    total_reward = run_episode(env, best_weight)\n",
        "    print('Episode {}: {}'.format(episode+1, total_reward))\n",
        "    total_rewards_eval.append(total_reward)"
      ],
      "execution_count": 13,
      "outputs": [
        {
          "output_type": "stream",
          "text": [
            "Episode 1: 200.0\n",
            "Episode 2: 200.0\n",
            "Episode 3: 200.0\n",
            "Episode 4: 200.0\n",
            "Episode 5: 200.0\n",
            "Episode 6: 200.0\n",
            "Episode 7: 200.0\n",
            "Episode 8: 200.0\n",
            "Episode 9: 200.0\n",
            "Episode 10: 200.0\n",
            "Episode 11: 200.0\n",
            "Episode 12: 200.0\n",
            "Episode 13: 200.0\n",
            "Episode 14: 200.0\n",
            "Episode 15: 200.0\n",
            "Episode 16: 200.0\n",
            "Episode 17: 200.0\n",
            "Episode 18: 200.0\n",
            "Episode 19: 200.0\n",
            "Episode 20: 200.0\n",
            "Episode 21: 200.0\n",
            "Episode 22: 200.0\n",
            "Episode 23: 200.0\n",
            "Episode 24: 200.0\n",
            "Episode 25: 200.0\n",
            "Episode 26: 200.0\n",
            "Episode 27: 200.0\n",
            "Episode 28: 200.0\n",
            "Episode 29: 200.0\n",
            "Episode 30: 200.0\n",
            "Episode 31: 200.0\n",
            "Episode 32: 200.0\n",
            "Episode 33: 200.0\n",
            "Episode 34: 200.0\n",
            "Episode 35: 200.0\n",
            "Episode 36: 200.0\n",
            "Episode 37: 200.0\n",
            "Episode 38: 200.0\n",
            "Episode 39: 200.0\n",
            "Episode 40: 200.0\n",
            "Episode 41: 200.0\n",
            "Episode 42: 200.0\n",
            "Episode 43: 200.0\n",
            "Episode 44: 200.0\n",
            "Episode 45: 200.0\n",
            "Episode 46: 200.0\n",
            "Episode 47: 200.0\n",
            "Episode 48: 200.0\n",
            "Episode 49: 200.0\n",
            "Episode 50: 200.0\n",
            "Episode 51: 200.0\n",
            "Episode 52: 200.0\n",
            "Episode 53: 200.0\n",
            "Episode 54: 200.0\n",
            "Episode 55: 200.0\n",
            "Episode 56: 200.0\n",
            "Episode 57: 200.0\n",
            "Episode 58: 200.0\n",
            "Episode 59: 200.0\n",
            "Episode 60: 200.0\n",
            "Episode 61: 200.0\n",
            "Episode 62: 200.0\n",
            "Episode 63: 200.0\n",
            "Episode 64: 200.0\n",
            "Episode 65: 200.0\n",
            "Episode 66: 200.0\n",
            "Episode 67: 200.0\n",
            "Episode 68: 200.0\n",
            "Episode 69: 200.0\n",
            "Episode 70: 200.0\n",
            "Episode 71: 200.0\n",
            "Episode 72: 200.0\n",
            "Episode 73: 200.0\n",
            "Episode 74: 200.0\n",
            "Episode 75: 200.0\n",
            "Episode 76: 200.0\n",
            "Episode 77: 200.0\n",
            "Episode 78: 200.0\n",
            "Episode 79: 200.0\n",
            "Episode 80: 200.0\n",
            "Episode 81: 200.0\n",
            "Episode 82: 200.0\n",
            "Episode 83: 200.0\n",
            "Episode 84: 200.0\n",
            "Episode 85: 200.0\n",
            "Episode 86: 200.0\n",
            "Episode 87: 200.0\n",
            "Episode 88: 200.0\n",
            "Episode 89: 200.0\n",
            "Episode 90: 200.0\n",
            "Episode 91: 200.0\n",
            "Episode 92: 200.0\n",
            "Episode 93: 200.0\n",
            "Episode 94: 200.0\n",
            "Episode 95: 200.0\n",
            "Episode 96: 200.0\n",
            "Episode 97: 200.0\n",
            "Episode 98: 200.0\n",
            "Episode 99: 200.0\n",
            "Episode 100: 200.0\n"
          ],
          "name": "stdout"
        }
      ]
    },
    {
      "cell_type": "code",
      "metadata": {
        "id": "q4WRSpLjALcp",
        "colab_type": "code",
        "colab": {
          "base_uri": "https://localhost:8080/",
          "height": 34
        },
        "outputId": "5fcbd352-e339-4497-cedb-f13ba0136209"
      },
      "source": [
        "print('Average total reward over {} episode: {}'.format(n_episode, sum(total_rewards) / n_episode))"
      ],
      "execution_count": 14,
      "outputs": [
        {
          "output_type": "stream",
          "text": [
            "Average total reward over 1000 episode: 196.679\n"
          ],
          "name": "stdout"
        }
      ]
    },
    {
      "cell_type": "markdown",
      "metadata": {
        "id": "Z3Rfpf1eARLb",
        "colab_type": "text"
      },
      "source": [
        "The average reward for the testing episodes is close to the maximum of 200 that we obtained with the learned policy. You can re-run the evaluation multiple times. The results are pretty consistent.\n",
        "\n",
        "We are able to achieve much better performance with the hill-climbing algorithm than with random search by simply **adding adaptive noise** to each episode. We can think of it as a special kind of gradient descent without a target variable. The additional noise is the gradient, albeit in a random way. **The noise scale is the learning rate**, and it is adaptive to the reward from the previous episode. The target variable in hill climbing becomes achieving the highest reward. In summary, rather than isolating each episode, the agent in\n",
        "the hill-climbing algorithm makes use of the knowledge learned from each episode and performs a more reliable action in the next episode. As the name hill climbing implies, the reward moves upwards through the episodes as the weight gradually moves towards the optimum value."
      ]
    },
    {
      "cell_type": "markdown",
      "metadata": {
        "id": "4Mzm3rPJfoQC",
        "colab_type": "text"
      },
      "source": [
        "We can observe that the reward can reach the maximum value within the first 100 episodes. Can we just stop training when the reward reaches 200, as we did with the random search policy? That might not be a good idea. Remember that the agent is making continuous improvements in hill climbing. Even if it finds a weight that generates the maximum reward, it can still search around this weight for the optimal point. Here, we define the optimal policy as the one that can solve the CartPole problem. According to the following wiki page, https:/​/​github.​com/​openai/​gym/​wiki/​CartPole-​v0, \"solved\" means the average reward over 100 consecutive episodes is no less than 195."
      ]
    },
    {
      "cell_type": "code",
      "metadata": {
        "id": "qjD4Fu8DfbqZ",
        "colab_type": "code",
        "colab": {
          "base_uri": "https://localhost:8080/",
          "height": 231
        },
        "outputId": "1357d2f3-472c-4d6d-a64b-e61a10f45185"
      },
      "source": [
        "noise_scale = 0.01\n",
        "best_total_reward = 0\n",
        "total_rewards = []\n",
        "\n",
        "for episode in range(n_episode):\n",
        "    weight = best_weight + noise_scale * torch.rand(n_state, n_action)\n",
        "    total_reward = run_episode(env, weight)\n",
        "    if total_reward >= best_total_reward:\n",
        "        best_total_reward = total_reward\n",
        "        best_weight = weight\n",
        "        noise_scale = max(noise_scale / 2, 1e-4)\n",
        "    else:\n",
        "        noise_scale = min(noise_scale * 2, 2)\n",
        "    print('Episode {}: {}'.format(episode + 1, total_reward))\n",
        "    total_rewards.append(total_reward)\n",
        "    if episode >= 99 and sum(total_rewards[-100:]) >= 19500:\n",
        "        break"
      ],
      "execution_count": 3,
      "outputs": [
        {
          "output_type": "error",
          "ename": "NameError",
          "evalue": "ignored",
          "traceback": [
            "\u001b[0;31m---------------------------------------------------------------------------\u001b[0m",
            "\u001b[0;31mNameError\u001b[0m                                 Traceback (most recent call last)",
            "\u001b[0;32m<ipython-input-3-f333f600a747>\u001b[0m in \u001b[0;36m<module>\u001b[0;34m()\u001b[0m\n\u001b[1;32m      4\u001b[0m \u001b[0;34m\u001b[0m\u001b[0m\n\u001b[1;32m      5\u001b[0m \u001b[0;32mfor\u001b[0m \u001b[0mepisode\u001b[0m \u001b[0;32min\u001b[0m \u001b[0mrange\u001b[0m\u001b[0;34m(\u001b[0m\u001b[0mn_episode\u001b[0m\u001b[0;34m)\u001b[0m\u001b[0;34m:\u001b[0m\u001b[0;34m\u001b[0m\u001b[0;34m\u001b[0m\u001b[0m\n\u001b[0;32m----> 6\u001b[0;31m     \u001b[0mweight\u001b[0m \u001b[0;34m=\u001b[0m \u001b[0mbest_weight\u001b[0m \u001b[0;34m+\u001b[0m \u001b[0mnoise_scale\u001b[0m \u001b[0;34m*\u001b[0m \u001b[0mtorch\u001b[0m\u001b[0;34m.\u001b[0m\u001b[0mrand\u001b[0m\u001b[0;34m(\u001b[0m\u001b[0mn_state\u001b[0m\u001b[0;34m,\u001b[0m \u001b[0mn_action\u001b[0m\u001b[0;34m)\u001b[0m\u001b[0;34m\u001b[0m\u001b[0;34m\u001b[0m\u001b[0m\n\u001b[0m\u001b[1;32m      7\u001b[0m     \u001b[0mtotal_reward\u001b[0m \u001b[0;34m=\u001b[0m \u001b[0mrun_episode\u001b[0m\u001b[0;34m(\u001b[0m\u001b[0menv\u001b[0m\u001b[0;34m,\u001b[0m \u001b[0mweight\u001b[0m\u001b[0;34m)\u001b[0m\u001b[0;34m\u001b[0m\u001b[0;34m\u001b[0m\u001b[0m\n\u001b[1;32m      8\u001b[0m     \u001b[0;32mif\u001b[0m \u001b[0mtotal_reward\u001b[0m \u001b[0;34m>=\u001b[0m \u001b[0mbest_total_reward\u001b[0m\u001b[0;34m:\u001b[0m\u001b[0;34m\u001b[0m\u001b[0;34m\u001b[0m\u001b[0m\n",
            "\u001b[0;31mNameError\u001b[0m: name 'best_weight' is not defined"
          ]
        }
      ]
    },
    {
      "cell_type": "code",
      "metadata": {
        "id": "NYLUom3KgqXV",
        "colab_type": "code",
        "colab": {}
      },
      "source": [
        ""
      ],
      "execution_count": 0,
      "outputs": []
    }
  ]
}