{
  "nbformat": 4,
  "nbformat_minor": 0,
  "metadata": {
    "colab": {
      "name": "randomSearchPolicyCartPole.ipynb",
      "provenance": [],
      "authorship_tag": "ABX9TyNk2z/tteEcp8bwt6EY/Uv9",
      "include_colab_link": true
    },
    "kernelspec": {
      "name": "python3",
      "display_name": "Python 3"
    }
  },
  "cells": [
    {
      "cell_type": "markdown",
      "metadata": {
        "id": "view-in-github",
        "colab_type": "text"
      },
      "source": [
        "<a href=\"https://colab.research.google.com/github/aksevenli/Pytorch-Reinforcement-Learning/blob/master/randomSearchPolicyCartPole.ipynb\" target=\"_parent\"><img src=\"https://colab.research.google.com/assets/colab-badge.svg\" alt=\"Open In Colab\"/></a>"
      ]
    },
    {
      "cell_type": "markdown",
      "metadata": {
        "id": "w7Wr0wzJxtu_",
        "colab_type": "text"
      },
      "source": [
        "# Implementing and evaluating a random search policy\n",
        "\n",
        "A simple, yet effective, approach is to map an observation to a vector of two numbers representing two actions. **The action with the higher value will be picked**. The linear mapping is depicted by a weight matrix whose size is 4 x 2 since the observations are 4-dimensional in this case. **In each episode, the weight is randomly generated and is used to compute the action for every step in this episode**. The total reward is then calculated. This process repeats for many episodes and, in the end, **the weight that enables the highest total reward will become the learned policy**. This approach is called *random search* because the weight is randomly picked in each trial with the hope that the best weight will be found with a large number of trials."
      ]
    },
    {
      "cell_type": "markdown",
      "metadata": {
        "id": "2P81HgTa7x_-",
        "colab_type": "text"
      },
      "source": [
        "CartPole is a traditional reinforcement learning task in which a pole is placed upright on top of a cart. The agent moves the cart either to the left or to the right by 1 unit in a timestep. **The goal is to balance the pole and prevent it from falling over**. The pole is considered to have fallen if it is more than 12 degrees from the vertical, or the cart moves 2.4 units away from the origin. An episode terminates when any of the following occurs:\n",
        "\n",
        "\n",
        "1.   The pole falls over\n",
        "2.   The number of timesteps reaches 200\n",
        "\n"
      ]
    },
    {
      "cell_type": "code",
      "metadata": {
        "id": "qatCpxvtxPsu",
        "colab_type": "code",
        "colab": {}
      },
      "source": [
        "import gym\n",
        "import torch\n",
        "import matplotlib.pyplot as plt"
      ],
      "execution_count": 0,
      "outputs": []
    },
    {
      "cell_type": "code",
      "metadata": {
        "id": "oqSpplujzYvE",
        "colab_type": "code",
        "colab": {}
      },
      "source": [
        "env = gym.make('CartPole-v0')\n",
        "\n",
        "# obtain the dimensions of the observation and action space, used for defining tensor which is size 4 x 2\n",
        "n_state = env.observation_space.shape[0]\n",
        "n_action = env.action_space.n\n",
        "\n",
        "# Define a function that simulates an episode given the input weight and returns the total reward\n",
        "def run_episode(env, weight):\n",
        "  state = env.reset()\n",
        "  total_reward = 0\n",
        "  is_done = False\n",
        "  while not is_done:\n",
        "    state = torch.from_numpy(state).float() # convert state array to a tensor of the floate type for multiplication of the state and weight\n",
        "    action = torch.argmax(torch.matmul(state, weight))\n",
        "    state, reward, is_done, _ = env.step(action.item()) # take the value of the resulting action tensor using .item() because it is a one-element tensor\n",
        "    total_reward += reward\n",
        "  return total_reward\n",
        "\n",
        "# Specify the number of episodes\n",
        "n_episode = 1000\n",
        "\n",
        "# Track the best toal reward on the fly, as well as the corresponding weight\n",
        "best_total_reward = 0\n",
        "best_weight = None\n",
        "# Record the total reward for every episode\n",
        "total_rewards = []"
      ],
      "execution_count": 0,
      "outputs": []
    },
    {
      "cell_type": "markdown",
      "metadata": {
        "id": "pOarjOtV2LuD",
        "colab_type": "text"
      },
      "source": [
        "Run n_episode. For each episode do the following:\n",
        "\n",
        "\n",
        "1.   Randomly pick the weight\n",
        "2.   Let the agent take actions according to the linear mapping\n",
        "3.   An episode terminates and returns the total reward\n",
        "4.   Update the best total reward and the best weight if necessary\n",
        "5.   Also, keep a record of the total reward\n",
        "\n",
        "\n",
        "\n"
      ]
    },
    {
      "cell_type": "code",
      "metadata": {
        "id": "9js6ahH4zm2p",
        "colab_type": "code",
        "colab": {}
      },
      "source": [
        "for episode in range(n_episode):\n",
        "  weight = torch.rand(n_state, n_action)\n",
        "  total_reward = run_episode(env, weight)\n",
        "  print('Episode {}: {}'.format(episode+1, total_reward))\n",
        "  if total_reward > best_total_reward:\n",
        "    best_weight = weight\n",
        "    best_total_reward = total_reward\n",
        "  total_rewards.append(total_reward)\n",
        "  "
      ],
      "execution_count": 0,
      "outputs": []
    },
    {
      "cell_type": "code",
      "metadata": {
        "id": "W3QLxKQH5o4z",
        "colab_type": "code",
        "colab": {
          "base_uri": "https://localhost:8080/",
          "height": 34
        },
        "outputId": "5e057379-1d66-431a-9f3c-36b74ac53086"
      },
      "source": [
        "print('Average total reward over {} episode: {}'.format(n_episode, sum(total_rewards) / n_episode))"
      ],
      "execution_count": 14,
      "outputs": [
        {
          "output_type": "stream",
          "text": [
            "Average total reward over 1000 episode: 48.407\n"
          ],
          "name": "stdout"
        }
      ]
    },
    {
      "cell_type": "markdown",
      "metadata": {
        "id": "xYc3uVtE6rj1",
        "colab_type": "text"
      },
      "source": [
        "See how the learned policy performs on 100 new episodes"
      ]
    },
    {
      "cell_type": "code",
      "metadata": {
        "id": "h0aGod4B6e78",
        "colab_type": "code",
        "colab": {}
      },
      "source": [
        "n_episode_eval = 100\n",
        "total_rewards_eval = []\n",
        "for episode in range(n_episode_eval):\n",
        "  total_reward = run_episode(env, best_weight)\n",
        "  print('Episode {}: {}'.format(episode+1, total_reward))\n",
        "  total_rewards_eval.append(total_reward)"
      ],
      "execution_count": 0,
      "outputs": []
    },
    {
      "cell_type": "code",
      "metadata": {
        "id": "SWwb_Gon7POd",
        "colab_type": "code",
        "colab": {
          "base_uri": "https://localhost:8080/",
          "height": 34
        },
        "outputId": "18234998-1a2a-4eb6-f1b3-f1b7bb7676eb"
      },
      "source": [
        "print('Average total reward over {} episode: {}'.format(n_episode, sum(total_rewards_eval) / n_episode_eval))"
      ],
      "execution_count": 16,
      "outputs": [
        {
          "output_type": "stream",
          "text": [
            "Average total reward over 1000 episode: 134.18\n"
          ],
          "name": "stdout"
        }
      ]
    },
    {
      "cell_type": "markdown",
      "metadata": {
        "id": "8u63gqo38eEv",
        "colab_type": "text"
      },
      "source": [
        "Plot the total reward for every episode in the training phase"
      ]
    },
    {
      "cell_type": "code",
      "metadata": {
        "id": "FCAVBaIo7jpk",
        "colab_type": "code",
        "colab": {
          "base_uri": "https://localhost:8080/",
          "height": 296
        },
        "outputId": "a8490085-d7fc-4f50-c2a8-52400e28d632"
      },
      "source": [
        "plt.plot(total_rewards)\n",
        "plt.xlabel('Episode')\n",
        "plt.ylabel('Reward')\n",
        "plt.show"
      ],
      "execution_count": 18,
      "outputs": [
        {
          "output_type": "execute_result",
          "data": {
            "text/plain": [
              "<function matplotlib.pyplot.show>"
            ]
          },
          "metadata": {
            "tags": []
          },
          "execution_count": 18
        },
        {
          "output_type": "display_data",
          "data": {
            "image/png": "[encoded data removed]",
            "text/plain": [
              "<Figure size 432x288 with 1 Axes>"
            ]
          },
          "metadata": {
            "tags": [],
            "needs_background": "light"
          }
        }
      ]
    },
    {
      "cell_type": "markdown",
      "metadata": {
        "id": "YHsXPViz9Qep",
        "colab_type": "text"
      },
      "source": [
        "In the plot of reward versus episodes, we can see that there are some episodes in which the reward reaches 200. We can end the training phase whenever this occurs since **there is no room to improve**. Incorporating this change, we now have the following for the training phase:"
      ]
    },
    {
      "cell_type": "code",
      "metadata": {
        "id": "6x0ykL-S8wIp",
        "colab_type": "code",
        "colab": {
          "base_uri": "https://localhost:8080/",
          "height": 68
        },
        "outputId": "98714607-1e53-4b4b-b008-c2fb7d4a1bdb"
      },
      "source": [
        "n_episode = 1000\n",
        "best_total_reward = 0\n",
        "best_weight = None\n",
        "total_rewards = []\n",
        "for episode in range(n_episode):\n",
        "  weight = torch.rand(n_state, n_action)\n",
        "  total_reward = run_episode(env, weight)\n",
        "  print('Episode {}: {}'.format(episode+1, total_reward))\n",
        "  if total_reward > best_total_reward:\n",
        "    best_weight = weight\n",
        "    best_total_reward = total_reward\n",
        "  total_rewards.append(total_reward)\n",
        "  if best_total_reward == 200:\n",
        "    break"
      ],
      "execution_count": 20,
      "outputs": [
        {
          "output_type": "stream",
          "text": [
            "Episode 1: 76.0\n",
            "Episode 2: 46.0\n",
            "Episode 3: 200.0\n"
          ],
          "name": "stdout"
        }
      ]
    },
    {
      "cell_type": "code",
      "metadata": {
        "id": "Ak6o17w9-FCZ",
        "colab_type": "code",
        "colab": {
          "base_uri": "https://localhost:8080/",
          "height": 34
        },
        "outputId": "d2a6410e-398f-4ed2-8e78-10da0cdccdb7"
      },
      "source": [
        "n_training = 1000\n",
        "n_episode_training = []\n",
        "for _ in range(n_training):\n",
        "  for episode in range(n_episode):\n",
        "    weight = torch.rand(n_state, n_action)\n",
        "    total_reward = run_episode(env, weight)\n",
        "    if total_reward == 200:\n",
        "      n_episode_training.append(episode+1)\n",
        "      break\n",
        "\n",
        "print('Expectation of training episodes needed: ', sum(n_episode_training) / n_training)"
      ],
      "execution_count": 21,
      "outputs": [
        {
          "output_type": "stream",
          "text": [
            "Expectation of training episodes needed:  14.477\n"
          ],
          "name": "stdout"
        }
      ]
    }
  ]
}