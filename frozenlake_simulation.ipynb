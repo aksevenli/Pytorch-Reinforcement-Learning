{
  "nbformat": 4,
  "nbformat_minor": 0,
  "metadata": {
    "colab": {
      "name": "frozenlake_simulation.ipynb",
      "provenance": [],
      "authorship_tag": "ABX9TyN7eHDRTbEY7lVWtp/hnYsh",
      "include_colab_link": true
    },
    "kernelspec": {
      "name": "python3",
      "display_name": "Python 3"
    },
    "accelerator": "GPU"
  },
  "cells": [
    {
      "cell_type": "markdown",
      "metadata": {
        "id": "view-in-github",
        "colab_type": "text"
      },
      "source": [
        "<a href=\"https://colab.research.google.com/github/aksevenli/Pytorch-Reinforcement-Learning/blob/master/frozenlake_simulation.ipynb\" target=\"_parent\"><img src=\"https://colab.research.google.com/assets/colab-badge.svg\" alt=\"Open In Colab\"/></a>"
      ]
    },
    {
      "cell_type": "markdown",
      "metadata": {
        "id": "bvuz5gLRMhRN",
        "colab_type": "text"
      },
      "source": [
        "# FrozenLake Environment:\n",
        "\n",
        "\n",
        "*   S: The starting loation\n",
        "*   G: The goal location, which terminates an episode\n",
        "*   F: The frozen tile, which is a walkable location\n",
        "*   H: The hole location, which terminates an episode\n",
        "\n",
        "Four actions:\n",
        "\n",
        "\n",
        "*   moving left    (0)\n",
        "*   moving down    (1)\n",
        "*   moving right   (2)\n",
        "*   moving up      (3)\n",
        "\n",
        "Reach the goal location: rewards + 1, 0 otherwise"
      ]
    },
    {
      "cell_type": "code",
      "metadata": {
        "id": "w0qnd18VMU4X",
        "colab_type": "code",
        "colab": {}
      },
      "source": [
        "import gym\n",
        "import torch\n",
        "import pyvirtualdisplay\n",
        "\n",
        "env = gym.make(\"FrozenLake-v0\")\n",
        "n_state = env.observation_space.n\n",
        "n_action = env.action_space.n"
      ],
      "execution_count": 0,
      "outputs": []
    },
    {
      "cell_type": "code",
      "metadata": {
        "id": "dwReP_KZWZgC",
        "colab_type": "code",
        "colab": {
          "base_uri": "https://localhost:8080/",
          "height": 34
        },
        "outputId": "3aa92f55-3d24-45a2-98a8-3a19fdb9647c"
      },
      "source": [
        "env.reset()"
      ],
      "execution_count": 31,
      "outputs": [
        {
          "output_type": "execute_result",
          "data": {
            "text/plain": [
              "0"
            ]
          },
          "metadata": {
            "tags": []
          },
          "execution_count": 31
        }
      ]
    },
    {
      "cell_type": "code",
      "metadata": {
        "id": "ZSuQD7jEWcgk",
        "colab_type": "code",
        "colab": {
          "base_uri": "https://localhost:8080/",
          "height": 102
        },
        "outputId": "b35884a6-dbef-43f9-8b05-27c1fd2e4b5f"
      },
      "source": [
        "env.render()"
      ],
      "execution_count": 32,
      "outputs": [
        {
          "output_type": "stream",
          "text": [
            "\n",
            "\u001b[41mS\u001b[0mFFF\n",
            "FHFH\n",
            "FFFH\n",
            "HFFG\n"
          ],
          "name": "stdout"
        }
      ]
    },
    {
      "cell_type": "code",
      "metadata": {
        "id": "2_LrwJtQWewb",
        "colab_type": "code",
        "colab": {
          "base_uri": "https://localhost:8080/",
          "height": 102
        },
        "outputId": "da572c30-1e0c-415b-f6b5-c3e785aed92a"
      },
      "source": [
        "new_state, reward, is_done, info = env.step(2)\n",
        "env.render()"
      ],
      "execution_count": 35,
      "outputs": [
        {
          "output_type": "stream",
          "text": [
            "  (Right)\n",
            "SFFF\n",
            "F\u001b[41mH\u001b[0mFH\n",
            "FFFH\n",
            "HFFG\n"
          ],
          "name": "stdout"
        }
      ]
    },
    {
      "cell_type": "code",
      "metadata": {
        "id": "Wiu5Dj7wRb-i",
        "colab_type": "code",
        "colab": {}
      },
      "source": [
        "# Define function that simulates a FrozenLake episode given apolicy and returns the total reward\n",
        "def run_episode(env, policy):\n",
        "    state = env.reset()\n",
        "    total_reward = 0\n",
        "    is_done = False\n",
        "    while not is_done:\n",
        "        action = policy[state].item()\n",
        "        state, reward, is_done, info = env.step(action)\n",
        "        total_reward += reward\n",
        "        if is_done:\n",
        "            break\n",
        "    return total_reward"
      ],
      "execution_count": 0,
      "outputs": []
    },
    {
      "cell_type": "code",
      "metadata": {
        "id": "V8GCI4vgR27e",
        "colab_type": "code",
        "colab": {
          "base_uri": "https://localhost:8080/",
          "height": 34
        },
        "outputId": "30b209bc-657b-43bf-c99d-803076308ab5"
      },
      "source": [
        "# Play with random policy\n",
        "n_episode = 1000\n",
        "total_rewards = []\n",
        "for episode in range(n_episode):\n",
        "    random_policy = torch.randint(high=n_action, size=(n_state, ))\n",
        "    total_reward = run_episode(env, random_policy)\n",
        "    total_rewards.append(total_reward)\n",
        "\n",
        "print('Average total reward under random policy: {}'.format(sum(total_rewards) / n_episode))"
      ],
      "execution_count": 28,
      "outputs": [
        {
          "output_type": "stream",
          "text": [
            "Average total reward under random policy: 0.023\n"
          ],
          "name": "stdout"
        }
      ]
    },
    {
      "cell_type": "code",
      "metadata": {
        "id": "FZn7iZBiSxJR",
        "colab_type": "code",
        "colab": {
          "base_uri": "https://localhost:8080/",
          "height": 34
        },
        "outputId": "08b93586-790f-4f42-9184-37f3293b897e"
      },
      "source": [
        "# Play with random search policy\n",
        "while True:\n",
        "    random_policy = torch.randint(high=n_action, size=(n_state, ))\n",
        "    total_reward = run_episode(env, random_policy)\n",
        "    if total_reward == 1:\n",
        "        best_policy = random_policy\n",
        "        break\n",
        "\n",
        "print(best_policy)"
      ],
      "execution_count": 29,
      "outputs": [
        {
          "output_type": "stream",
          "text": [
            "tensor([0, 3, 0, 0, 0, 0, 0, 1, 3, 1, 1, 1, 3, 2, 1, 2])\n"
          ],
          "name": "stdout"
        }
      ]
    },
    {
      "cell_type": "code",
      "metadata": {
        "id": "lA0ZOqKCTj22",
        "colab_type": "code",
        "colab": {
          "base_uri": "https://localhost:8080/",
          "height": 34
        },
        "outputId": "f9fba72a-c874-42b3-ff82-332900a49468"
      },
      "source": [
        "total_rewards = []\n",
        "for episode in range(n_episode):\n",
        "    total_reward = run_episode(env, best_policy)\n",
        "    total_rewards.append(total_reward)\n",
        "\n",
        "print('Average total reward under random search policy: {}'.format(sum(total_rewards) / n_episode))"
      ],
      "execution_count": 30,
      "outputs": [
        {
          "output_type": "stream",
          "text": [
            "Average total reward under random search policy: 0.601\n"
          ],
          "name": "stdout"
        }
      ]
    },
    {
      "cell_type": "code",
      "metadata": {
        "id": "72m043jnVx0D",
        "colab_type": "code",
        "colab": {}
      },
      "source": [
        ""
      ],
      "execution_count": 0,
      "outputs": []
    }
  ]
}